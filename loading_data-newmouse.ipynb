{
 "cells": [
  {
   "cell_type": "code",
   "execution_count": 2,
   "metadata": {
    "tags": []
   },
   "outputs": [],
   "source": [
    "import json\n",
    "from os import path\n",
    "\n",
    "import numpy as np\n",
    "import pandas as pd\n",
    "from matplotlib import pyplot as plt\n",
    "\n",
    "from tbd_eeg.data_analysis.eegutils import EEGexp\n",
    "\n",
    "datastore = 'datastore/allen_mouse_eeg' # path to the allen_mouse_eeg folder relative to your current directory\n",
    "\n",
    "%matplotlib widget"
   ]
  },
  {
   "cell_type": "markdown",
   "metadata": {},
   "source": [
    "# Importing an experiment in the EEGexp object"
   ]
  },
  {
   "cell_type": "code",
   "execution_count": 10,
   "metadata": {},
   "outputs": [
    {
     "name": "stdout",
     "output_type": "stream",
     "text": [
      "Available experiments:\n",
      "['mouse551400', 'mouse586466', 'loading_data.ipynb', 'mouse521885', 'mouse521886', 'mouse521887', 'mouse526065', 'mouse538931', 'mouse542447', 'mouse543393', 'mouse543394', 'mouse543395', 'mouse543396', 'mouse546655', 'mouse546656', 'mouse546657', 'mouse546658', 'mouse547867', 'mouse547868', 'mouse551397', 'mouse551398', 'mouse551399', 'mouse569062', 'mouse569064', 'mouse569068', 'mouse569069', 'mouse569070', 'mouse569072', 'mouse569073', 'mouse571618', 'mouse571619', 'mouse571620', 'mouse575100', 'mouse575101', 'mouse575102', 'mouse575103', 'mouse577578', 'mouse582385', 'mouse582386', 'mouse582387', 'mouse582388', 'mouse586467', 'mouse586468', 'mouse586469', 'mouse590478', 'mouse590479', 'mouse590480', 'mouse590481', 'mouse599017', 'mouse599974', 'mouse599975', 'mouse618552', 'mouse621102', 'mouse627041', 'mouse633552', 'mouse635397', 'mouse635890', 'mouse638703', 'test_NP4', 'test_opto_saline', 'zapnzip-8cc7481f10dc.json']\n"
     ]
    }
   ],
   "source": [
    "# list all mice\n",
    "from glob import glob\n",
    "\n",
    "print('Available experiments:')\n",
    "print([path.basename(f) for f in glob(path.join(datastore, '*'))])"
   ]
  },
  {
   "cell_type": "code",
   "execution_count": 14,
   "metadata": {},
   "outputs": [
    {
     "name": "stdout",
     "output_type": "stream",
     "text": [
      "Available sessions:\n",
      "['estim_vis_2022-03-31_12-03-06', 'histology', 'signal_test_2022-02-08_13-19-49', 'urethane_vis_2022-04-01_10-58-41']\n"
     ]
    }
   ],
   "source": [
    "mouse = 'mouse599975' #'mouse590481' #mouse586468' #'mouse599975'\n",
    "\n",
    "print('Available sessions:')\n",
    "print([path.basename(f) for f in glob(path.join(datastore, mouse, '*'))])"
   ]
  },
  {
   "cell_type": "code",
   "execution_count": 15,
   "metadata": {
    "tags": []
   },
   "outputs": [
    {
     "name": "stdout",
     "output_type": "stream",
     "text": [
      "Experiment type: sensory stimulation\n",
      "SomnoSuite log file not found.\n",
      "Body camera file not found.\n",
      "Pupil camera file not found.\n"
     ]
    }
   ],
   "source": [
    "expt = 'estim_vis_2022-03-31_12-03-06'#'estim_vis_2022-03-31_12-03-06'\n",
    "#probe = 'probeC'\n",
    "\n",
    "rec_folder = f'datastore/allen_mouse_eeg/{mouse}/{expt}/experiment1/recording1'\n",
    "exp = EEGexp(rec_folder, preprocess=False, make_stim_csv=False)"
   ]
  },
  {
   "cell_type": "code",
   "execution_count": 16,
   "metadata": {},
   "outputs": [
    {
     "data": {
      "text/plain": [
       "'datastore/allen_mouse_eeg/mouse599975/estim_vis_2022-03-31_12-03-06/experiment1/recording1'"
      ]
     },
     "execution_count": 16,
     "metadata": {},
     "output_type": "execute_result"
    }
   ],
   "source": [
    "rec_folder"
   ]
  },
  {
   "cell_type": "code",
   "execution_count": 17,
   "metadata": {
    "collapsed": true,
    "jupyter": {
     "outputs_hidden": true
    },
    "tags": []
   },
   "outputs": [
    {
     "data": {
      "text/plain": [
       "{'probeB': {'probe_info': 'datastore/allen_mouse_eeg/mouse599975/estim_vis_2022-03-31_12-03-06/experiment1/probeB_sorted/probe_info.json',\n",
       "  'num_chs': 384,\n",
       "  'bit_volts': 0.195,\n",
       "  'ap_continuous': 'datastore/allen_mouse_eeg/mouse599975/estim_vis_2022-03-31_12-03-06/experiment1/probeB_sorted/continuous/Neuropix-PXI-100.0/continuous.dat',\n",
       "  'ap_timestamps': 'datastore/allen_mouse_eeg/mouse599975/estim_vis_2022-03-31_12-03-06/experiment1/probeB_sorted/continuous/Neuropix-PXI-100.0/timestamps_master_clock.npy',\n",
       "  'ap_sample_rate': 30000,\n",
       "  'lfp_continuous': 'datastore/allen_mouse_eeg/mouse599975/estim_vis_2022-03-31_12-03-06/experiment1/probeB_sorted/continuous/Neuropix-PXI-100.1/continuous.dat',\n",
       "  'lfp_timestamps': 'datastore/allen_mouse_eeg/mouse599975/estim_vis_2022-03-31_12-03-06/experiment1/probeB_sorted/continuous/Neuropix-PXI-100.1/timestamps_master_clock.npy',\n",
       "  'lfp_sample_rate': 500,\n",
       "  'spike_clusters': 'datastore/allen_mouse_eeg/mouse599975/estim_vis_2022-03-31_12-03-06/experiment1/probeB_sorted/continuous/Neuropix-PXI-100.0/spike_clusters.npy',\n",
       "  'spike_times': 'datastore/allen_mouse_eeg/mouse599975/estim_vis_2022-03-31_12-03-06/experiment1/probeB_sorted/continuous/Neuropix-PXI-100.0/spike_times_master_clock.npy',\n",
       "  'cluster_group': 'datastore/allen_mouse_eeg/mouse599975/estim_vis_2022-03-31_12-03-06/experiment1/probeB_sorted/continuous/Neuropix-PXI-100.0/cluster_group.tsv',\n",
       "  'cluster_metrics': 'datastore/allen_mouse_eeg/mouse599975/estim_vis_2022-03-31_12-03-06/experiment1/probeB_sorted/continuous/Neuropix-PXI-100.0/metrics.csv',\n",
       "  'waveforms': 'datastore/allen_mouse_eeg/mouse599975/estim_vis_2022-03-31_12-03-06/experiment1/probeB_sorted/continuous/Neuropix-PXI-100.0/mean_waveforms.npy'},\n",
       " 'EEG': {'sample_rate': 500,\n",
       "  'num_chs': 40,\n",
       "  'bit_volts': 0.19499999284744263,\n",
       "  'units': 'uV',\n",
       "  'continuous': 'datastore/allen_mouse_eeg/mouse599975/estim_vis_2022-03-31_12-03-06/experiment1/recording1/continuous/Rhythm_FPGA-101.0/continuous.dat',\n",
       "  'timestamps': 'datastore/allen_mouse_eeg/mouse599975/estim_vis_2022-03-31_12-03-06/experiment1/recording1/continuous/Rhythm_FPGA-101.0/timestamps_master_clock.npy'},\n",
       " 'probeC': {'probe_info': 'datastore/allen_mouse_eeg/mouse599975/estim_vis_2022-03-31_12-03-06/experiment1/probeC_sorted/probe_info.json',\n",
       "  'num_chs': 384,\n",
       "  'bit_volts': 0.195,\n",
       "  'ap_continuous': 'datastore/allen_mouse_eeg/mouse599975/estim_vis_2022-03-31_12-03-06/experiment1/probeC_sorted/continuous/Neuropix-PXI-100.0/continuous.dat',\n",
       "  'ap_timestamps': 'datastore/allen_mouse_eeg/mouse599975/estim_vis_2022-03-31_12-03-06/experiment1/probeC_sorted/continuous/Neuropix-PXI-100.0/timestamps_master_clock.npy',\n",
       "  'ap_sample_rate': 30000,\n",
       "  'lfp_continuous': 'datastore/allen_mouse_eeg/mouse599975/estim_vis_2022-03-31_12-03-06/experiment1/probeC_sorted/continuous/Neuropix-PXI-100.1/continuous.dat',\n",
       "  'lfp_timestamps': 'datastore/allen_mouse_eeg/mouse599975/estim_vis_2022-03-31_12-03-06/experiment1/probeC_sorted/continuous/Neuropix-PXI-100.1/timestamps_master_clock.npy',\n",
       "  'lfp_sample_rate': 500,\n",
       "  'spike_clusters': 'datastore/allen_mouse_eeg/mouse599975/estim_vis_2022-03-31_12-03-06/experiment1/probeC_sorted/continuous/Neuropix-PXI-100.0/spike_clusters.npy',\n",
       "  'spike_times': 'datastore/allen_mouse_eeg/mouse599975/estim_vis_2022-03-31_12-03-06/experiment1/probeC_sorted/continuous/Neuropix-PXI-100.0/spike_times_master_clock.npy',\n",
       "  'cluster_group': 'datastore/allen_mouse_eeg/mouse599975/estim_vis_2022-03-31_12-03-06/experiment1/probeC_sorted/continuous/Neuropix-PXI-100.0/cluster_group.tsv',\n",
       "  'cluster_metrics': 'datastore/allen_mouse_eeg/mouse599975/estim_vis_2022-03-31_12-03-06/experiment1/probeC_sorted/continuous/Neuropix-PXI-100.0/metrics.csv',\n",
       "  'waveforms': 'datastore/allen_mouse_eeg/mouse599975/estim_vis_2022-03-31_12-03-06/experiment1/probeC_sorted/continuous/Neuropix-PXI-100.0/mean_waveforms.npy'},\n",
       " 'probeF': {'probe_info': 'datastore/allen_mouse_eeg/mouse599975/estim_vis_2022-03-31_12-03-06/experiment1/probeF_sorted/probe_info.json',\n",
       "  'num_chs': 384,\n",
       "  'bit_volts': 0.195,\n",
       "  'ap_continuous': 'datastore/allen_mouse_eeg/mouse599975/estim_vis_2022-03-31_12-03-06/experiment1/probeF_sorted/continuous/Neuropix-PXI-100.0/continuous.dat',\n",
       "  'ap_timestamps': 'datastore/allen_mouse_eeg/mouse599975/estim_vis_2022-03-31_12-03-06/experiment1/probeF_sorted/continuous/Neuropix-PXI-100.0/timestamps_master_clock.npy',\n",
       "  'ap_sample_rate': 30000,\n",
       "  'lfp_continuous': 'datastore/allen_mouse_eeg/mouse599975/estim_vis_2022-03-31_12-03-06/experiment1/probeF_sorted/continuous/Neuropix-PXI-100.1/continuous.dat',\n",
       "  'lfp_timestamps': 'datastore/allen_mouse_eeg/mouse599975/estim_vis_2022-03-31_12-03-06/experiment1/probeF_sorted/continuous/Neuropix-PXI-100.1/timestamps_master_clock.npy',\n",
       "  'lfp_sample_rate': 500,\n",
       "  'spike_clusters': 'datastore/allen_mouse_eeg/mouse599975/estim_vis_2022-03-31_12-03-06/experiment1/probeF_sorted/continuous/Neuropix-PXI-100.0/spike_clusters.npy',\n",
       "  'spike_times': 'datastore/allen_mouse_eeg/mouse599975/estim_vis_2022-03-31_12-03-06/experiment1/probeF_sorted/continuous/Neuropix-PXI-100.0/spike_times_master_clock.npy',\n",
       "  'cluster_group': 'datastore/allen_mouse_eeg/mouse599975/estim_vis_2022-03-31_12-03-06/experiment1/probeF_sorted/continuous/Neuropix-PXI-100.0/cluster_group.tsv',\n",
       "  'cluster_metrics': 'datastore/allen_mouse_eeg/mouse599975/estim_vis_2022-03-31_12-03-06/experiment1/probeF_sorted/continuous/Neuropix-PXI-100.0/metrics.csv',\n",
       "  'waveforms': 'datastore/allen_mouse_eeg/mouse599975/estim_vis_2022-03-31_12-03-06/experiment1/probeF_sorted/continuous/Neuropix-PXI-100.0/mean_waveforms.npy'}}"
      ]
     },
     "execution_count": 17,
     "metadata": {},
     "output_type": "execute_result"
    }
   ],
   "source": [
    "exp.ephys_params"
   ]
  },
  {
   "cell_type": "code",
   "execution_count": 18,
   "metadata": {
    "collapsed": true,
    "jupyter": {
     "outputs_hidden": true
    },
    "tags": []
   },
   "outputs": [
    {
     "name": "stdout",
     "output_type": "stream",
     "text": [
      "Sources of data: dict_keys(['probeB', 'EEG', 'probeC', 'probeF'])\n",
      "{'probeB': {'probe_info': 'datastore/allen_mouse_eeg/mouse599975/estim_vis_2022-03-31_12-03-06/experiment1/probeB_sorted/probe_info.json', 'num_chs': 384, 'bit_volts': 0.195, 'ap_continuous': 'datastore/allen_mouse_eeg/mouse599975/estim_vis_2022-03-31_12-03-06/experiment1/probeB_sorted/continuous/Neuropix-PXI-100.0/continuous.dat', 'ap_timestamps': 'datastore/allen_mouse_eeg/mouse599975/estim_vis_2022-03-31_12-03-06/experiment1/probeB_sorted/continuous/Neuropix-PXI-100.0/timestamps_master_clock.npy', 'ap_sample_rate': 30000, 'lfp_continuous': 'datastore/allen_mouse_eeg/mouse599975/estim_vis_2022-03-31_12-03-06/experiment1/probeB_sorted/continuous/Neuropix-PXI-100.1/continuous.dat', 'lfp_timestamps': 'datastore/allen_mouse_eeg/mouse599975/estim_vis_2022-03-31_12-03-06/experiment1/probeB_sorted/continuous/Neuropix-PXI-100.1/timestamps_master_clock.npy', 'lfp_sample_rate': 500, 'spike_clusters': 'datastore/allen_mouse_eeg/mouse599975/estim_vis_2022-03-31_12-03-06/experiment1/probeB_sorted/continuous/Neuropix-PXI-100.0/spike_clusters.npy', 'spike_times': 'datastore/allen_mouse_eeg/mouse599975/estim_vis_2022-03-31_12-03-06/experiment1/probeB_sorted/continuous/Neuropix-PXI-100.0/spike_times_master_clock.npy', 'cluster_group': 'datastore/allen_mouse_eeg/mouse599975/estim_vis_2022-03-31_12-03-06/experiment1/probeB_sorted/continuous/Neuropix-PXI-100.0/cluster_group.tsv', 'cluster_metrics': 'datastore/allen_mouse_eeg/mouse599975/estim_vis_2022-03-31_12-03-06/experiment1/probeB_sorted/continuous/Neuropix-PXI-100.0/metrics.csv', 'waveforms': 'datastore/allen_mouse_eeg/mouse599975/estim_vis_2022-03-31_12-03-06/experiment1/probeB_sorted/continuous/Neuropix-PXI-100.0/mean_waveforms.npy'}, 'EEG': {'sample_rate': 500, 'num_chs': 40, 'bit_volts': 0.19499999284744263, 'units': 'uV', 'continuous': 'datastore/allen_mouse_eeg/mouse599975/estim_vis_2022-03-31_12-03-06/experiment1/recording1/continuous/Rhythm_FPGA-101.0/continuous.dat', 'timestamps': 'datastore/allen_mouse_eeg/mouse599975/estim_vis_2022-03-31_12-03-06/experiment1/recording1/continuous/Rhythm_FPGA-101.0/timestamps_master_clock.npy'}, 'probeC': {'probe_info': 'datastore/allen_mouse_eeg/mouse599975/estim_vis_2022-03-31_12-03-06/experiment1/probeC_sorted/probe_info.json', 'num_chs': 384, 'bit_volts': 0.195, 'ap_continuous': 'datastore/allen_mouse_eeg/mouse599975/estim_vis_2022-03-31_12-03-06/experiment1/probeC_sorted/continuous/Neuropix-PXI-100.0/continuous.dat', 'ap_timestamps': 'datastore/allen_mouse_eeg/mouse599975/estim_vis_2022-03-31_12-03-06/experiment1/probeC_sorted/continuous/Neuropix-PXI-100.0/timestamps_master_clock.npy', 'ap_sample_rate': 30000, 'lfp_continuous': 'datastore/allen_mouse_eeg/mouse599975/estim_vis_2022-03-31_12-03-06/experiment1/probeC_sorted/continuous/Neuropix-PXI-100.1/continuous.dat', 'lfp_timestamps': 'datastore/allen_mouse_eeg/mouse599975/estim_vis_2022-03-31_12-03-06/experiment1/probeC_sorted/continuous/Neuropix-PXI-100.1/timestamps_master_clock.npy', 'lfp_sample_rate': 500, 'spike_clusters': 'datastore/allen_mouse_eeg/mouse599975/estim_vis_2022-03-31_12-03-06/experiment1/probeC_sorted/continuous/Neuropix-PXI-100.0/spike_clusters.npy', 'spike_times': 'datastore/allen_mouse_eeg/mouse599975/estim_vis_2022-03-31_12-03-06/experiment1/probeC_sorted/continuous/Neuropix-PXI-100.0/spike_times_master_clock.npy', 'cluster_group': 'datastore/allen_mouse_eeg/mouse599975/estim_vis_2022-03-31_12-03-06/experiment1/probeC_sorted/continuous/Neuropix-PXI-100.0/cluster_group.tsv', 'cluster_metrics': 'datastore/allen_mouse_eeg/mouse599975/estim_vis_2022-03-31_12-03-06/experiment1/probeC_sorted/continuous/Neuropix-PXI-100.0/metrics.csv', 'waveforms': 'datastore/allen_mouse_eeg/mouse599975/estim_vis_2022-03-31_12-03-06/experiment1/probeC_sorted/continuous/Neuropix-PXI-100.0/mean_waveforms.npy'}, 'probeF': {'probe_info': 'datastore/allen_mouse_eeg/mouse599975/estim_vis_2022-03-31_12-03-06/experiment1/probeF_sorted/probe_info.json', 'num_chs': 384, 'bit_volts': 0.195, 'ap_continuous': 'datastore/allen_mouse_eeg/mouse599975/estim_vis_2022-03-31_12-03-06/experiment1/probeF_sorted/continuous/Neuropix-PXI-100.0/continuous.dat', 'ap_timestamps': 'datastore/allen_mouse_eeg/mouse599975/estim_vis_2022-03-31_12-03-06/experiment1/probeF_sorted/continuous/Neuropix-PXI-100.0/timestamps_master_clock.npy', 'ap_sample_rate': 30000, 'lfp_continuous': 'datastore/allen_mouse_eeg/mouse599975/estim_vis_2022-03-31_12-03-06/experiment1/probeF_sorted/continuous/Neuropix-PXI-100.1/continuous.dat', 'lfp_timestamps': 'datastore/allen_mouse_eeg/mouse599975/estim_vis_2022-03-31_12-03-06/experiment1/probeF_sorted/continuous/Neuropix-PXI-100.1/timestamps_master_clock.npy', 'lfp_sample_rate': 500, 'spike_clusters': 'datastore/allen_mouse_eeg/mouse599975/estim_vis_2022-03-31_12-03-06/experiment1/probeF_sorted/continuous/Neuropix-PXI-100.0/spike_clusters.npy', 'spike_times': 'datastore/allen_mouse_eeg/mouse599975/estim_vis_2022-03-31_12-03-06/experiment1/probeF_sorted/continuous/Neuropix-PXI-100.0/spike_times_master_clock.npy', 'cluster_group': 'datastore/allen_mouse_eeg/mouse599975/estim_vis_2022-03-31_12-03-06/experiment1/probeF_sorted/continuous/Neuropix-PXI-100.0/cluster_group.tsv', 'cluster_metrics': 'datastore/allen_mouse_eeg/mouse599975/estim_vis_2022-03-31_12-03-06/experiment1/probeF_sorted/continuous/Neuropix-PXI-100.0/metrics.csv', 'waveforms': 'datastore/allen_mouse_eeg/mouse599975/estim_vis_2022-03-31_12-03-06/experiment1/probeF_sorted/continuous/Neuropix-PXI-100.0/mean_waveforms.npy'}}\n",
      "\n",
      "Metadata for the EEG recordings:\n",
      "{'sample_rate': 500, 'num_chs': 40, 'bit_volts': 0.19499999284744263, 'units': 'uV', 'continuous': 'datastore/allen_mouse_eeg/mouse599975/estim_vis_2022-03-31_12-03-06/experiment1/recording1/continuous/Rhythm_FPGA-101.0/continuous.dat', 'timestamps': 'datastore/allen_mouse_eeg/mouse599975/estim_vis_2022-03-31_12-03-06/experiment1/recording1/continuous/Rhythm_FPGA-101.0/timestamps_master_clock.npy'}\n",
      "\n",
      "Metadata for spike recordings:\n",
      "{'probe_info': 'datastore/allen_mouse_eeg/mouse599975/estim_vis_2022-03-31_12-03-06/experiment1/probeC_sorted/probe_info.json', 'num_chs': 384, 'bit_volts': 0.195, 'ap_continuous': 'datastore/allen_mouse_eeg/mouse599975/estim_vis_2022-03-31_12-03-06/experiment1/probeC_sorted/continuous/Neuropix-PXI-100.0/continuous.dat', 'ap_timestamps': 'datastore/allen_mouse_eeg/mouse599975/estim_vis_2022-03-31_12-03-06/experiment1/probeC_sorted/continuous/Neuropix-PXI-100.0/timestamps_master_clock.npy', 'ap_sample_rate': 30000, 'lfp_continuous': 'datastore/allen_mouse_eeg/mouse599975/estim_vis_2022-03-31_12-03-06/experiment1/probeC_sorted/continuous/Neuropix-PXI-100.1/continuous.dat', 'lfp_timestamps': 'datastore/allen_mouse_eeg/mouse599975/estim_vis_2022-03-31_12-03-06/experiment1/probeC_sorted/continuous/Neuropix-PXI-100.1/timestamps_master_clock.npy', 'lfp_sample_rate': 500, 'spike_clusters': 'datastore/allen_mouse_eeg/mouse599975/estim_vis_2022-03-31_12-03-06/experiment1/probeC_sorted/continuous/Neuropix-PXI-100.0/spike_clusters.npy', 'spike_times': 'datastore/allen_mouse_eeg/mouse599975/estim_vis_2022-03-31_12-03-06/experiment1/probeC_sorted/continuous/Neuropix-PXI-100.0/spike_times_master_clock.npy', 'cluster_group': 'datastore/allen_mouse_eeg/mouse599975/estim_vis_2022-03-31_12-03-06/experiment1/probeC_sorted/continuous/Neuropix-PXI-100.0/cluster_group.tsv', 'cluster_metrics': 'datastore/allen_mouse_eeg/mouse599975/estim_vis_2022-03-31_12-03-06/experiment1/probeC_sorted/continuous/Neuropix-PXI-100.0/metrics.csv', 'waveforms': 'datastore/allen_mouse_eeg/mouse599975/estim_vis_2022-03-31_12-03-06/experiment1/probeC_sorted/continuous/Neuropix-PXI-100.0/mean_waveforms.npy'}\n"
     ]
    }
   ],
   "source": [
    "# since we record multiple data (EEG, Neuropixels etc.), metadata for all of them can be found using the ephys_params property\n",
    "print('Sources of data:', exp.ephys_params.keys())\n",
    "print(exp.ephys_params)\n",
    "print('\\nMetadata for the EEG recordings:')\n",
    "print(exp.ephys_params['EEG'])\n",
    "print('\\nMetadata for spike recordings:')\n",
    "print(exp.ephys_params['probeC'])"
   ]
  },
  {
   "cell_type": "markdown",
   "metadata": {},
   "source": [
    "## Loading EEG data"
   ]
  },
  {
   "cell_type": "code",
   "execution_count": 9,
   "metadata": {
    "collapsed": true,
    "jupyter": {
     "outputs_hidden": true
    },
    "tags": []
   },
   "outputs": [
    {
     "ename": "KeyboardInterrupt",
     "evalue": "",
     "output_type": "error",
     "traceback": [
      "\u001b[0;31m---------------------------------------------------------------------------\u001b[0m",
      "\u001b[0;31mKeyboardInterrupt\u001b[0m                         Traceback (most recent call last)",
      "Input \u001b[0;32mIn [9]\u001b[0m, in \u001b[0;36m<cell line: 2>\u001b[0;34m()\u001b[0m\n\u001b[1;32m      1\u001b[0m \u001b[38;5;66;03m# loading the EEG data\u001b[39;00m\n\u001b[0;32m----> 2\u001b[0m eegdata \u001b[38;5;241m=\u001b[39m \u001b[43mexp\u001b[49m\u001b[38;5;241;43m.\u001b[39;49m\u001b[43mload_eegdata\u001b[49m\u001b[43m(\u001b[49m\u001b[43mreturn_type\u001b[49m\u001b[38;5;241;43m=\u001b[39;49m\u001b[38;5;124;43m'\u001b[39;49m\u001b[38;5;124;43mpd\u001b[39;49m\u001b[38;5;124;43m'\u001b[39;49m\u001b[43m,\u001b[49m\u001b[43m \u001b[49m\u001b[43mdownsamplefactor\u001b[49m\u001b[38;5;241;43m=\u001b[39;49m\u001b[38;5;241;43m5\u001b[39;49m\u001b[43m)\u001b[49m\n\u001b[1;32m      3\u001b[0m eegdata\u001b[38;5;241m.\u001b[39mhead()\n",
      "File \u001b[0;32m/srv/data/datastore/common_libs/tbd_eeg/tbd_eeg/data_analysis/eegutils.py:421\u001b[0m, in \u001b[0;36mEEGexp.load_eegdata\u001b[0;34m(self, frequency, return_type, downsamplefactor, load_empty_chs)\u001b[0m\n\u001b[1;32m    418\u001b[0m \u001b[38;5;28;01mif\u001b[39;00m (frequency \u001b[38;5;129;01mis\u001b[39;00m \u001b[38;5;129;01mnot\u001b[39;00m \u001b[38;5;28;01mNone\u001b[39;00m \u001b[38;5;129;01mand\u001b[39;00m\n\u001b[1;32m    419\u001b[0m     frequency \u001b[38;5;241m!=\u001b[39m \u001b[38;5;28mself\u001b[39m\u001b[38;5;241m.\u001b[39mephys_params[\u001b[38;5;124m'\u001b[39m\u001b[38;5;124mEEG\u001b[39m\u001b[38;5;124m'\u001b[39m][\u001b[38;5;124m'\u001b[39m\u001b[38;5;124msample_rate\u001b[39m\u001b[38;5;124m'\u001b[39m]):\n\u001b[1;32m    420\u001b[0m         downsamplefactor \u001b[38;5;241m=\u001b[39m \u001b[38;5;28mint\u001b[39m(\u001b[38;5;28mself\u001b[39m\u001b[38;5;241m.\u001b[39mephys_params[\u001b[38;5;124m'\u001b[39m\u001b[38;5;124mEEG\u001b[39m\u001b[38;5;124m'\u001b[39m][\u001b[38;5;124m'\u001b[39m\u001b[38;5;124msample_rate\u001b[39m\u001b[38;5;124m'\u001b[39m] \u001b[38;5;241m/\u001b[39m frequency)\n\u001b[0;32m--> 421\u001b[0m         data, ts \u001b[38;5;241m=\u001b[39m \u001b[43mdownsample_eeg_and_timestamps\u001b[49m\u001b[43m(\u001b[49m\u001b[38;5;28;43mself\u001b[39;49m\u001b[43m,\u001b[49m\u001b[43m \u001b[49m\u001b[43mdownsamplefactor\u001b[49m\u001b[43m)\u001b[49m\n\u001b[1;32m    422\u001b[0m \u001b[38;5;28;01melif\u001b[39;00m (frequency \u001b[38;5;129;01mis\u001b[39;00m \u001b[38;5;129;01mnot\u001b[39;00m \u001b[38;5;28;01mNone\u001b[39;00m \u001b[38;5;129;01mand\u001b[39;00m\n\u001b[1;32m    423\u001b[0m     frequency \u001b[38;5;241m==\u001b[39m \u001b[38;5;28mself\u001b[39m\u001b[38;5;241m.\u001b[39mephys_params[\u001b[38;5;124m'\u001b[39m\u001b[38;5;124mEEG\u001b[39m\u001b[38;5;124m'\u001b[39m][\u001b[38;5;124m'\u001b[39m\u001b[38;5;124msample_rate\u001b[39m\u001b[38;5;124m'\u001b[39m]):\n\u001b[1;32m    424\u001b[0m         data \u001b[38;5;241m=\u001b[39m \u001b[38;5;28mself\u001b[39m\u001b[38;5;241m.\u001b[39m_memmap_EEGdata(load_empty_chs) \u001b[38;5;241m*\u001b[39m \u001b[38;5;28mself\u001b[39m\u001b[38;5;241m.\u001b[39mephys_params[\u001b[38;5;124m'\u001b[39m\u001b[38;5;124mEEG\u001b[39m\u001b[38;5;124m'\u001b[39m][\u001b[38;5;124m'\u001b[39m\u001b[38;5;124mbit_volts\u001b[39m\u001b[38;5;124m'\u001b[39m]\n",
      "File \u001b[0;32m/srv/data/datastore/common_libs/tbd_eeg/tbd_eeg/data_analysis/eeg_preprocessing.py:270\u001b[0m, in \u001b[0;36mdownsample_eeg_and_timestamps\u001b[0;34m(exp, downsamplefactor)\u001b[0m\n\u001b[1;32m    267\u001b[0m ssts_path \u001b[38;5;241m=\u001b[39m os\u001b[38;5;241m.\u001b[39mpath\u001b[38;5;241m.\u001b[39mjoin(os\u001b[38;5;241m.\u001b[39mpath\u001b[38;5;241m.\u001b[39mdirname(exp\u001b[38;5;241m.\u001b[39mephys_params[\u001b[38;5;124m'\u001b[39m\u001b[38;5;124mEEG\u001b[39m\u001b[38;5;124m'\u001b[39m][\u001b[38;5;124m'\u001b[39m\u001b[38;5;124mtimestamps\u001b[39m\u001b[38;5;124m'\u001b[39m]), ts_name)\n\u001b[1;32m    268\u001b[0m \u001b[38;5;28;01mif\u001b[39;00m \u001b[38;5;129;01mnot\u001b[39;00m os\u001b[38;5;241m.\u001b[39mpath\u001b[38;5;241m.\u001b[39mexists(ssdata_path):\n\u001b[0;32m--> 270\u001b[0m     eegdata \u001b[38;5;241m=\u001b[39m \u001b[43mexp\u001b[49m\u001b[38;5;241;43m.\u001b[39;49m\u001b[43m_memmap_EEGdata\u001b[49m\u001b[43m(\u001b[49m\u001b[43m)\u001b[49m \u001b[38;5;241m*\u001b[39m exp\u001b[38;5;241m.\u001b[39mephys_params[\u001b[38;5;124m'\u001b[39m\u001b[38;5;124mEEG\u001b[39m\u001b[38;5;124m'\u001b[39m][\u001b[38;5;124m'\u001b[39m\u001b[38;5;124mbit_volts\u001b[39m\u001b[38;5;124m'\u001b[39m] \u001b[38;5;66;03m# converts to microvolts for saving\u001b[39;00m\n\u001b[1;32m    271\u001b[0m     channels \u001b[38;5;241m=\u001b[39m np\u001b[38;5;241m.\u001b[39marange(\u001b[38;5;241m0\u001b[39m, eegdata\u001b[38;5;241m.\u001b[39mshape[\u001b[38;5;241m1\u001b[39m], dtype\u001b[38;5;241m=\u001b[39m\u001b[38;5;124m'\u001b[39m\u001b[38;5;124mint\u001b[39m\u001b[38;5;124m'\u001b[39m)\n\u001b[1;32m    273\u001b[0m     \u001b[38;5;28mprint\u001b[39m(\u001b[38;5;124m'\u001b[39m\u001b[38;5;124mDownsampling data from \u001b[39m\u001b[38;5;132;01m%d\u001b[39;00m\u001b[38;5;124m Hz to \u001b[39m\u001b[38;5;132;01m%d\u001b[39;00m\u001b[38;5;124m Hz...\u001b[39m\u001b[38;5;124m'\u001b[39m \u001b[38;5;241m%\u001b[39m (exp\u001b[38;5;241m.\u001b[39mephys_params[\u001b[38;5;124m'\u001b[39m\u001b[38;5;124mEEG\u001b[39m\u001b[38;5;124m'\u001b[39m][\u001b[38;5;124m'\u001b[39m\u001b[38;5;124msample_rate\u001b[39m\u001b[38;5;124m'\u001b[39m], new_sample_rate))\n",
      "File \u001b[0;32m/srv/data/datastore/common_libs/tbd_eeg/tbd_eeg/data_analysis/eegutils.py:460\u001b[0m, in \u001b[0;36mEEGexp._memmap_EEGdata\u001b[0;34m(self, load_empty_chs)\u001b[0m\n\u001b[1;32m    458\u001b[0m         \u001b[38;5;28;01mreturn\u001b[39;00m data_memmap[:, empty_channel_order]\n\u001b[1;32m    459\u001b[0m     \u001b[38;5;28;01melse\u001b[39;00m:\n\u001b[0;32m--> 460\u001b[0m         \u001b[38;5;28;01mreturn\u001b[39;00m \u001b[43mdata_memmap\u001b[49m\u001b[43m[\u001b[49m\u001b[43m:\u001b[49m\u001b[43m,\u001b[49m\u001b[43m \u001b[49m\u001b[38;5;28;43mself\u001b[39;49m\u001b[38;5;241;43m.\u001b[39;49m\u001b[43mEEG_channel_order\u001b[49m\u001b[43m]\u001b[49m\n\u001b[1;32m    462\u001b[0m data_memmap \u001b[38;5;241m=\u001b[39m np\u001b[38;5;241m.\u001b[39mmemmap(\u001b[38;5;28mself\u001b[39m\u001b[38;5;241m.\u001b[39mephys_params[\u001b[38;5;124m'\u001b[39m\u001b[38;5;124mEEG\u001b[39m\u001b[38;5;124m'\u001b[39m][\u001b[38;5;124m'\u001b[39m\u001b[38;5;124mcontinuous\u001b[39m\u001b[38;5;124m'\u001b[39m], dtype\u001b[38;5;241m=\u001b[39m\u001b[38;5;124m'\u001b[39m\u001b[38;5;124mint16\u001b[39m\u001b[38;5;124m'\u001b[39m, mode\u001b[38;5;241m=\u001b[39m\u001b[38;5;124m'\u001b[39m\u001b[38;5;124mr\u001b[39m\u001b[38;5;124m'\u001b[39m)\n\u001b[1;32m    463\u001b[0m \u001b[38;5;66;03m# following line maintains the data as a memmap, multiplying it by\u001b[39;00m\n\u001b[1;32m    464\u001b[0m \u001b[38;5;66;03m# self.ephys_params['EEG']['bit_volts'] loads it into memory\u001b[39;00m\n\u001b[1;32m    465\u001b[0m \u001b[38;5;66;03m# **NOTE** the [:, self.EEG_channel_order] portion leads to loading\u001b[39;00m\n\u001b[1;32m    466\u001b[0m \u001b[38;5;66;03m# the entire array into memory\u001b[39;00m\n",
      "File \u001b[0;32m~/btp_lakshika/lib/python3.9/site-packages/numpy/core/memmap.py:334\u001b[0m, in \u001b[0;36mmemmap.__getitem__\u001b[0;34m(self, index)\u001b[0m\n\u001b[1;32m    333\u001b[0m \u001b[38;5;28;01mdef\u001b[39;00m \u001b[38;5;21m__getitem__\u001b[39m(\u001b[38;5;28mself\u001b[39m, index):\n\u001b[0;32m--> 334\u001b[0m     res \u001b[38;5;241m=\u001b[39m \u001b[38;5;28;43msuper\u001b[39;49m\u001b[43m(\u001b[49m\u001b[43m)\u001b[49m\u001b[38;5;241;43m.\u001b[39;49m\u001b[38;5;21;43m__getitem__\u001b[39;49m\u001b[43m(\u001b[49m\u001b[43mindex\u001b[49m\u001b[43m)\u001b[49m\n\u001b[1;32m    335\u001b[0m     \u001b[38;5;28;01mif\u001b[39;00m \u001b[38;5;28mtype\u001b[39m(res) \u001b[38;5;129;01mis\u001b[39;00m memmap \u001b[38;5;129;01mand\u001b[39;00m res\u001b[38;5;241m.\u001b[39m_mmap \u001b[38;5;129;01mis\u001b[39;00m \u001b[38;5;28;01mNone\u001b[39;00m:\n\u001b[1;32m    336\u001b[0m         \u001b[38;5;28;01mreturn\u001b[39;00m res\u001b[38;5;241m.\u001b[39mview(\u001b[38;5;28mtype\u001b[39m\u001b[38;5;241m=\u001b[39mndarray)\n",
      "File \u001b[0;32m~/btp_lakshika/lib/python3.9/site-packages/numpy/core/memmap.py:288\u001b[0m, in \u001b[0;36mmemmap.__array_finalize__\u001b[0;34m(self, obj)\u001b[0m\n\u001b[1;32m    284\u001b[0m             \u001b[38;5;28mself\u001b[39m\u001b[38;5;241m.\u001b[39mfilename \u001b[38;5;241m=\u001b[39m \u001b[38;5;28;01mNone\u001b[39;00m\n\u001b[1;32m    286\u001b[0m     \u001b[38;5;28;01mreturn\u001b[39;00m \u001b[38;5;28mself\u001b[39m\n\u001b[0;32m--> 288\u001b[0m \u001b[38;5;28;01mdef\u001b[39;00m \u001b[38;5;21m__array_finalize__\u001b[39m(\u001b[38;5;28mself\u001b[39m, obj):\n\u001b[1;32m    289\u001b[0m     \u001b[38;5;28;01mif\u001b[39;00m \u001b[38;5;28mhasattr\u001b[39m(obj, \u001b[38;5;124m'\u001b[39m\u001b[38;5;124m_mmap\u001b[39m\u001b[38;5;124m'\u001b[39m) \u001b[38;5;129;01mand\u001b[39;00m np\u001b[38;5;241m.\u001b[39mmay_share_memory(\u001b[38;5;28mself\u001b[39m, obj):\n\u001b[1;32m    290\u001b[0m         \u001b[38;5;28mself\u001b[39m\u001b[38;5;241m.\u001b[39m_mmap \u001b[38;5;241m=\u001b[39m obj\u001b[38;5;241m.\u001b[39m_mmap\n",
      "\u001b[0;31mKeyboardInterrupt\u001b[0m: "
     ]
    }
   ],
   "source": [
    "# loading the EEG data\n",
    "eegdata = exp.load_eegdata(return_type='pd', downsamplefactor=5)\n",
    "eegdata.head()"
   ]
  },
  {
   "cell_type": "code",
   "execution_count": 19,
   "metadata": {},
   "outputs": [
    {
     "data": {
      "text/plain": [
       "'datastore/allen_mouse_eeg/mouse599975/estim_vis_2022-03-31_12-03-06/experiment1/recording1/sensory_stim_log.csv'"
      ]
     },
     "execution_count": 19,
     "metadata": {},
     "output_type": "execute_result"
    }
   ],
   "source": [
    "exp.stimulus_log_file"
   ]
  },
  {
   "cell_type": "code",
   "execution_count": 20,
   "metadata": {
    "tags": []
   },
   "outputs": [
    {
     "data": {
      "text/html": [
       "<div>\n",
       "<style scoped>\n",
       "    .dataframe tbody tr th:only-of-type {\n",
       "        vertical-align: middle;\n",
       "    }\n",
       "\n",
       "    .dataframe tbody tr th {\n",
       "        vertical-align: top;\n",
       "    }\n",
       "\n",
       "    .dataframe thead th {\n",
       "        text-align: right;\n",
       "    }\n",
       "</style>\n",
       "<table border=\"1\" class=\"dataframe\">\n",
       "  <thead>\n",
       "    <tr style=\"text-align: right;\">\n",
       "      <th></th>\n",
       "      <th>stim_type</th>\n",
       "      <th>parameter</th>\n",
       "      <th>onset</th>\n",
       "      <th>offset</th>\n",
       "      <th>duration</th>\n",
       "      <th>sweep</th>\n",
       "    </tr>\n",
       "  </thead>\n",
       "  <tbody>\n",
       "    <tr>\n",
       "      <th>0</th>\n",
       "      <td>biphasic</td>\n",
       "      <td>30</td>\n",
       "      <td>313.17998</td>\n",
       "      <td>313.18038</td>\n",
       "      <td>0.00040</td>\n",
       "      <td>0</td>\n",
       "    </tr>\n",
       "    <tr>\n",
       "      <th>1</th>\n",
       "      <td>biphasic</td>\n",
       "      <td>30</td>\n",
       "      <td>317.04933</td>\n",
       "      <td>317.04973</td>\n",
       "      <td>0.00040</td>\n",
       "      <td>0</td>\n",
       "    </tr>\n",
       "    <tr>\n",
       "      <th>2</th>\n",
       "      <td>biphasic</td>\n",
       "      <td>50</td>\n",
       "      <td>321.01047</td>\n",
       "      <td>321.01087</td>\n",
       "      <td>0.00040</td>\n",
       "      <td>0</td>\n",
       "    </tr>\n",
       "    <tr>\n",
       "      <th>3</th>\n",
       "      <td>biphasic</td>\n",
       "      <td>70</td>\n",
       "      <td>325.49254</td>\n",
       "      <td>325.49294</td>\n",
       "      <td>0.00040</td>\n",
       "      <td>0</td>\n",
       "    </tr>\n",
       "    <tr>\n",
       "      <th>4</th>\n",
       "      <td>biphasic</td>\n",
       "      <td>70</td>\n",
       "      <td>329.14937</td>\n",
       "      <td>329.14977</td>\n",
       "      <td>0.00040</td>\n",
       "      <td>0</td>\n",
       "    </tr>\n",
       "    <tr>\n",
       "      <th>...</th>\n",
       "      <td>...</td>\n",
       "      <td>...</td>\n",
       "      <td>...</td>\n",
       "      <td>...</td>\n",
       "      <td>...</td>\n",
       "      <td>...</td>\n",
       "    </tr>\n",
       "    <tr>\n",
       "      <th>955</th>\n",
       "      <td>circle</td>\n",
       "      <td>white</td>\n",
       "      <td>5260.03320</td>\n",
       "      <td>5260.28254</td>\n",
       "      <td>0.24934</td>\n",
       "      <td>1</td>\n",
       "    </tr>\n",
       "    <tr>\n",
       "      <th>956</th>\n",
       "      <td>circle</td>\n",
       "      <td>white</td>\n",
       "      <td>5264.48693</td>\n",
       "      <td>5264.73626</td>\n",
       "      <td>0.24933</td>\n",
       "      <td>1</td>\n",
       "    </tr>\n",
       "    <tr>\n",
       "      <th>957</th>\n",
       "      <td>circle</td>\n",
       "      <td>white</td>\n",
       "      <td>5268.64042</td>\n",
       "      <td>5268.90643</td>\n",
       "      <td>0.26601</td>\n",
       "      <td>1</td>\n",
       "    </tr>\n",
       "    <tr>\n",
       "      <th>958</th>\n",
       "      <td>circle</td>\n",
       "      <td>white</td>\n",
       "      <td>5273.11081</td>\n",
       "      <td>5273.36016</td>\n",
       "      <td>0.24935</td>\n",
       "      <td>1</td>\n",
       "    </tr>\n",
       "    <tr>\n",
       "      <th>959</th>\n",
       "      <td>circle</td>\n",
       "      <td>white</td>\n",
       "      <td>5277.83147</td>\n",
       "      <td>5278.09745</td>\n",
       "      <td>0.26598</td>\n",
       "      <td>1</td>\n",
       "    </tr>\n",
       "  </tbody>\n",
       "</table>\n",
       "<p>960 rows × 6 columns</p>\n",
       "</div>"
      ],
      "text/plain": [
       "    stim_type parameter       onset      offset  duration  sweep\n",
       "0    biphasic        30   313.17998   313.18038   0.00040      0\n",
       "1    biphasic        30   317.04933   317.04973   0.00040      0\n",
       "2    biphasic        50   321.01047   321.01087   0.00040      0\n",
       "3    biphasic        70   325.49254   325.49294   0.00040      0\n",
       "4    biphasic        70   329.14937   329.14977   0.00040      0\n",
       "..        ...       ...         ...         ...       ...    ...\n",
       "955    circle     white  5260.03320  5260.28254   0.24934      1\n",
       "956    circle     white  5264.48693  5264.73626   0.24933      1\n",
       "957    circle     white  5268.64042  5268.90643   0.26601      1\n",
       "958    circle     white  5273.11081  5273.36016   0.24935      1\n",
       "959    circle     white  5277.83147  5278.09745   0.26598      1\n",
       "\n",
       "[960 rows x 6 columns]"
      ]
     },
     "execution_count": 20,
     "metadata": {},
     "output_type": "execute_result"
    }
   ],
   "source": [
    "# loading the stimulus table\n",
    "stim_log = pd.read_csv('datastore/allen_mouse_eeg/mouse599975/estim_vis_2022-03-31_12-03-06/experiment1/recording1/all_stim_log.csv')#'datastore/allen_mouse_eeg/mouse599975/estim_vis_2022-03-31_12-03-06/experiment1/recording1/all_stim_log.csv')#exp.stimulus_log_file)\n",
    "stim_log"
   ]
  },
  {
   "cell_type": "code",
   "execution_count": 21,
   "metadata": {},
   "outputs": [
    {
     "data": {
      "text/plain": [
       "({0, 1}, {'30', '50', '70', 'white'})"
      ]
     },
     "execution_count": 21,
     "metadata": {},
     "output_type": "execute_result"
    }
   ],
   "source": [
    "#get timestamps for a particular sweep and a particular parameter\n",
    "\n",
    "set(stim_log['sweep']), set(stim_log['parameter'])\n",
    "\n",
    "df_0_30 = stim_log[stim_log['parameter']==\"50\"][stim_log['sweep']==0]\n",
    "df_0_30.reset_index(inplace=True)\n",
    "\n",
    "time_stamps = []\n",
    "for i in range(len(df_0_30)-1):\n",
    "    start = df_0_30.loc[i]['offset']+0.005\n",
    "    end = df_0_30.iloc[i+1]['onset']-0.005\n",
    "    time_stamps.append((start, end))"
   ]
  },
  {
   "cell_type": "code",
   "execution_count": 54,
   "metadata": {},
   "outputs": [],
   "source": [
    "np.save(\"timestamps_sweep2_param70_mouse590481.npy\", time_stamps)"
   ]
  },
  {
   "cell_type": "markdown",
   "metadata": {},
   "source": [
    "## Loading spikes data"
   ]
  },
  {
   "cell_type": "markdown",
   "metadata": {},
   "source": [
    "### Get a list of NPX probes in this experiment"
   ]
  },
  {
   "cell_type": "code",
   "execution_count": 28,
   "metadata": {},
   "outputs": [
    {
     "name": "stdout",
     "output_type": "stream",
     "text": [
      "['probeB', 'probeC', 'probeF']\n"
     ]
    }
   ],
   "source": [
    "probe_list = [x.replace('_sorted', '') for x in exp.experiment_data if 'probe' in x]\n",
    "print(probe_list)"
   ]
  },
  {
   "cell_type": "markdown",
   "metadata": {},
   "source": [
    "The probe names come from where on the rig the probe is mounted, not specific to a brain area. In the more recent experiments the following are likely locations:<br>\n",
    "- probeF: motor cortex, anterior cingulate\n",
    "- probeB: somatosensory cortex, thalamus (motor-related)\n",
    "- probeC (or D): visual cortex, thalamus (visual or motor related)"
   ]
  },
  {
   "cell_type": "markdown",
   "metadata": {},
   "source": [
    "Having a list of the probe names ('probeB') is helpful for accessing parameters that are stored in the EEGexp class, like below:"
   ]
  },
  {
   "cell_type": "code",
   "execution_count": 29,
   "metadata": {},
   "outputs": [
    {
     "data": {
      "text/plain": [
       "dict_keys(['probe_info', 'num_chs', 'bit_volts', 'ap_continuous', 'ap_timestamps', 'ap_sample_rate', 'lfp_continuous', 'lfp_timestamps', 'lfp_sample_rate', 'spike_clusters', 'spike_times', 'cluster_group', 'cluster_metrics', 'waveforms'])"
      ]
     },
     "execution_count": 29,
     "metadata": {},
     "output_type": "execute_result"
    }
   ],
   "source": [
    "exp.ephys_params['probeB'].keys()"
   ]
  },
  {
   "cell_type": "code",
   "execution_count": 30,
   "metadata": {},
   "outputs": [
    {
     "data": {
      "text/plain": [
       "{'probe_info': 'datastore/allen_mouse_eeg/mouse599975/estim_vis_2022-03-31_12-03-06/experiment1/probeB_sorted/probe_info.json',\n",
       " 'num_chs': 384,\n",
       " 'bit_volts': 0.195,\n",
       " 'ap_continuous': 'datastore/allen_mouse_eeg/mouse599975/estim_vis_2022-03-31_12-03-06/experiment1/probeB_sorted/continuous/Neuropix-PXI-100.0/continuous.dat',\n",
       " 'ap_timestamps': 'datastore/allen_mouse_eeg/mouse599975/estim_vis_2022-03-31_12-03-06/experiment1/probeB_sorted/continuous/Neuropix-PXI-100.0/timestamps_master_clock.npy',\n",
       " 'ap_sample_rate': 30000,\n",
       " 'lfp_continuous': 'datastore/allen_mouse_eeg/mouse599975/estim_vis_2022-03-31_12-03-06/experiment1/probeB_sorted/continuous/Neuropix-PXI-100.1/continuous.dat',\n",
       " 'lfp_timestamps': 'datastore/allen_mouse_eeg/mouse599975/estim_vis_2022-03-31_12-03-06/experiment1/probeB_sorted/continuous/Neuropix-PXI-100.1/timestamps_master_clock.npy',\n",
       " 'lfp_sample_rate': 500,\n",
       " 'spike_clusters': 'datastore/allen_mouse_eeg/mouse599975/estim_vis_2022-03-31_12-03-06/experiment1/probeB_sorted/continuous/Neuropix-PXI-100.0/spike_clusters.npy',\n",
       " 'spike_times': 'datastore/allen_mouse_eeg/mouse599975/estim_vis_2022-03-31_12-03-06/experiment1/probeB_sorted/continuous/Neuropix-PXI-100.0/spike_times_master_clock.npy',\n",
       " 'cluster_group': 'datastore/allen_mouse_eeg/mouse599975/estim_vis_2022-03-31_12-03-06/experiment1/probeB_sorted/continuous/Neuropix-PXI-100.0/cluster_group.tsv',\n",
       " 'cluster_metrics': 'datastore/allen_mouse_eeg/mouse599975/estim_vis_2022-03-31_12-03-06/experiment1/probeB_sorted/continuous/Neuropix-PXI-100.0/metrics.csv',\n",
       " 'waveforms': 'datastore/allen_mouse_eeg/mouse599975/estim_vis_2022-03-31_12-03-06/experiment1/probeB_sorted/continuous/Neuropix-PXI-100.0/mean_waveforms.npy'}"
      ]
     },
     "execution_count": 30,
     "metadata": {},
     "output_type": "execute_result"
    }
   ],
   "source": [
    "exp.ephys_params['probeB']"
   ]
  },
  {
   "cell_type": "markdown",
   "metadata": {},
   "source": [
    "In the above dictionary we find all the useful data.  \n",
    "The 'ap' band is the band on which very high frequencies are recorded. Spikes get recorded on this band.  \n",
    "`ap_continuous` is the raw analog data from this band. The corresponding timestamps for the recorded analog values are in `ap_timestamps`. And the sampling rate for the recording is in `ap_sample_rate`.  \n",
    "`lfp` is the band on which lower frequency signals are recorded. These are the average potentials arising from the activity of thousands of neurons near the electrode. The next few keys are similar to the `ap` keys, but for `lfp`.  \n",
    "The raw data from the `ap` channel has to be processed (spike-sorting) to get the actual spikes. The spike times are in the corresponding file; the action potential (ap!) waveforms for each identified neuron is in the `waveforms` file. And the `cluster_groups` are data related to the spike-sorting.  \n",
    "  \n",
    "Lakshika will basically need the spike times array for her preliminary analysis."
   ]
  },
  {
   "cell_type": "code",
   "execution_count": 31,
   "metadata": {},
   "outputs": [],
   "source": [
    "probe = 'probeB'\n",
    "_spike_times = np.load(\n",
    "    exp.ephys_params[probe]['spike_times'], mmap_mode='r'\n",
    ")\n",
    "_spike_clusters = np.load(\n",
    "    exp.ephys_params[probe]['spike_clusters'], mmap_mode='r'\n",
    ")\n",
    "cluster_metrics = pd.read_csv(\n",
    "    exp.ephys_params[probe]['cluster_metrics'], index_col=1\n",
    ").drop('Unnamed: 0', axis=1, errors='ignore')\n",
    "cluster_groups = pd.read_csv(\n",
    "    exp.ephys_params[probe]['cluster_group'],\n",
    "    sep='\\t', index_col=0\n",
    ")\n",
    "\n",
    "# rearrange into spike times for each cluster\n",
    "spike_df = pd.DataFrame(\n",
    "    index=_spike_clusters, data=_spike_times, columns=['time']\n",
    ")\n",
    "spike_times = spike_df.groupby(level=0).apply(lambda g: g.values[:, 0])"
   ]
  },
  {
   "cell_type": "code",
   "execution_count": 32,
   "metadata": {},
   "outputs": [
    {
     "data": {
      "text/plain": [
       "{'CA1',\n",
       " 'CA2',\n",
       " 'CA3',\n",
       " 'LD',\n",
       " 'SSp-ll6a',\n",
       " 'SSp-ll6b',\n",
       " 'SSp-tr2/3',\n",
       " 'SSp-tr4',\n",
       " 'SSp-tr5',\n",
       " 'SSp-tr6a',\n",
       " 'VAL',\n",
       " 'alv',\n",
       " 'ccb',\n",
       " 'cing',\n",
       " 'fi',\n",
       " 'root',\n",
       " 'scwm'}"
      ]
     },
     "execution_count": 32,
     "metadata": {},
     "output_type": "execute_result"
    }
   ],
   "source": [
    "#remove unwanted regions \n",
    "set(cluster_metrics['area'])"
   ]
  },
  {
   "cell_type": "code",
   "execution_count": 33,
   "metadata": {},
   "outputs": [
    {
     "data": {
      "text/plain": [
       "(887, 28)"
      ]
     },
     "execution_count": 33,
     "metadata": {},
     "output_type": "execute_result"
    }
   ],
   "source": [
    "cluster_metrics.shape"
   ]
  },
  {
   "cell_type": "code",
   "execution_count": 34,
   "metadata": {},
   "outputs": [],
   "source": [
    "final_metrix = cluster_metrics[(cluster_metrics['area'] != 'alv') & (cluster_metrics['area'] != 'em') & (cluster_metrics['area'] != 'fiber_tracts') & (cluster_metrics['area'] != 'fp') & (cluster_metrics['area'] != 'nan') & (cluster_metrics['area'] != 'or')]"
   ]
  },
  {
   "cell_type": "code",
   "execution_count": 37,
   "metadata": {},
   "outputs": [],
   "source": [
    "final_metrix.reset_index(inplace=True)"
   ]
  },
  {
   "cell_type": "code",
   "execution_count": null,
   "metadata": {},
   "outputs": [],
   "source": []
  },
  {
   "cell_type": "code",
   "execution_count": 42,
   "metadata": {},
   "outputs": [],
   "source": [
    "#combine the areas/channels of the neurons across all the three probes in an alphabetical order\n",
    "\n",
    "probeF_pc = final_metrix['peak_channel']\n",
    "probeF_a = final_metrix['area']"
   ]
  },
  {
   "cell_type": "code",
   "execution_count": 34,
   "metadata": {},
   "outputs": [],
   "source": [
    "probeC_pc = final_metrix['peak_channel']\n",
    "probeC_a = final_metrix['area']"
   ]
  },
  {
   "cell_type": "code",
   "execution_count": 25,
   "metadata": {},
   "outputs": [],
   "source": [
    "probeB_pc = final_metrix['peak_channel']\n",
    "probeB_a = final_metrix['area']"
   ]
  },
  {
   "cell_type": "code",
   "execution_count": 365,
   "metadata": {},
   "outputs": [],
   "source": [
    "probeC = final_metrix['peak_channel']"
   ]
  },
  {
   "cell_type": "code",
   "execution_count": 366,
   "metadata": {},
   "outputs": [],
   "source": [
    "probeF = final_metrix['peak_channel']"
   ]
  },
  {
   "cell_type": "code",
   "execution_count": 47,
   "metadata": {},
   "outputs": [],
   "source": [
    "combined = []\n",
    "combined.extend(probeB_a)\n",
    "combined.extend(probeC_a)\n",
    "combined.extend(probeF_a)"
   ]
  },
  {
   "cell_type": "code",
   "execution_count": 48,
   "metadata": {},
   "outputs": [],
   "source": [
    "combined = np.array(combined)"
   ]
  },
  {
   "cell_type": "code",
   "execution_count": 49,
   "metadata": {},
   "outputs": [],
   "source": [
    "np.save(\"mouse586468_final_allprobes_area.npy\", combined)"
   ]
  },
  {
   "cell_type": "code",
   "execution_count": null,
   "metadata": {},
   "outputs": [],
   "source": []
  },
  {
   "cell_type": "code",
   "execution_count": null,
   "metadata": {},
   "outputs": [],
   "source": []
  },
  {
   "cell_type": "markdown",
   "metadata": {},
   "source": [
    "## Count the number of spikes in small time-intervals (5 ms windows) and sum it across all the 120 sampling points followed by taking the average"
   ]
  },
  {
   "cell_type": "code",
   "execution_count": null,
   "metadata": {},
   "outputs": [
    {
     "data": {
      "text/plain": [
       "array(['VAL', 'VAL', 'VAL', ..., 'MOs2/3', 'LSr', 'cing'], dtype='<U32')"
      ]
     },
     "execution_count": 40,
     "metadata": {},
     "output_type": "execute_result"
    }
   ],
   "source": [
    "np.load(\"mouse599975_final_allprobes_area.npy\")"
   ]
  },
  {
   "cell_type": "code",
   "execution_count": 38,
   "metadata": {},
   "outputs": [],
   "source": [
    "final_spikedata = spike_times[final_metrix['cluster_id']]"
   ]
  },
  {
   "cell_type": "code",
   "execution_count": 39,
   "metadata": {},
   "outputs": [],
   "source": [
    "final_spikedata.reset_index(drop=True, inplace=True)"
   ]
  },
  {
   "cell_type": "code",
   "execution_count": 40,
   "metadata": {},
   "outputs": [
    {
     "data": {
      "text/plain": [
       "0      [12.557459605690383, 12.583659563385481, 12.61...\n",
       "1      [12.637826142588892, 12.73339265494451, 12.877...\n",
       "2      [12.599259538195838, 12.666226096731407, 12.67...\n",
       "3      [12.635626146141476, 12.694226051519763, 12.75...\n",
       "4      [12.558126271280344, 12.60969285468309, 12.649...\n",
       "                             ...                        \n",
       "870    [12.698392711458837, 12.930725669643834, 16.59...\n",
       "871    [23.899207958804254, 27.633968594941507, 79.07...\n",
       "872    [19.203382207833783, 19.635681509798815, 21.48...\n",
       "873    [755.2472541518086, 838.3108957534079, 967.871...\n",
       "874    [734.4003009498697, 754.9866876534379, 764.301...\n",
       "Length: 875, dtype: object"
      ]
     },
     "execution_count": 40,
     "metadata": {},
     "output_type": "execute_result"
    }
   ],
   "source": [
    "final_spikedata"
   ]
  },
  {
   "cell_type": "code",
   "execution_count": 45,
   "metadata": {},
   "outputs": [],
   "source": [
    "timeslots = np.load(\"mouse_599975/timestamps_sweep0_param50.npy\")"
   ]
  },
  {
   "cell_type": "code",
   "execution_count": 46,
   "metadata": {},
   "outputs": [
    {
     "data": {
      "text/plain": [
       "3.509599999999864"
      ]
     },
     "execution_count": 46,
     "metadata": {},
     "output_type": "execute_result"
    }
   ],
   "source": [
    "min([timeslots[i][1]-timeslots[i][0] for i in range(len(timeslots))])"
   ]
  },
  {
   "cell_type": "code",
   "execution_count": 47,
   "metadata": {},
   "outputs": [],
   "source": [
    "data = []"
   ]
  },
  {
   "cell_type": "code",
   "execution_count": 49,
   "metadata": {},
   "outputs": [],
   "source": [
    "bins = np.arange(timeslots[0][0]+0.004, timeslots[0][0]+3.4+0.004, 0.005)"
   ]
  },
  {
   "cell_type": "code",
   "execution_count": 51,
   "metadata": {},
   "outputs": [],
   "source": [
    "for i in range(len(timeslots)):\n",
    "    bins = np.arange(timeslots[i][0]+0.004, timeslots[i][0]+3.4+0.004, 0.005)[:680]\n",
    "    #print(bins.shape)\n",
    "    data_= []\n",
    "    for j in range(len(final_spikedata)):\n",
    "        counts, bins_ = np.histogram(final_spikedata[j], bins)\n",
    "        data_.append(counts)\n",
    "    data.append(np.array(data_))\n",
    "    #ata = np.stack((data, data_), axis=1)"
   ]
  },
  {
   "cell_type": "code",
   "execution_count": 52,
   "metadata": {},
   "outputs": [
    {
     "data": {
      "text/plain": [
       "119"
      ]
     },
     "execution_count": 52,
     "metadata": {},
     "output_type": "execute_result"
    }
   ],
   "source": [
    "len(data)"
   ]
  },
  {
   "cell_type": "code",
   "execution_count": 53,
   "metadata": {},
   "outputs": [
    {
     "data": {
      "text/plain": [
       "(875, 679)"
      ]
     },
     "execution_count": 53,
     "metadata": {},
     "output_type": "execute_result"
    }
   ],
   "source": [
    "np.array(data[0]).shape"
   ]
  },
  {
   "cell_type": "code",
   "execution_count": 54,
   "metadata": {},
   "outputs": [
    {
     "data": {
      "text/plain": [
       "((875, 679), (875, 679))"
      ]
     },
     "execution_count": 54,
     "metadata": {},
     "output_type": "execute_result"
    }
   ],
   "source": [
    "data[2].shape, data[50].shape"
   ]
  },
  {
   "cell_type": "code",
   "execution_count": 55,
   "metadata": {},
   "outputs": [],
   "source": [
    "stacked_data = np.stack(data, axis=1)"
   ]
  },
  {
   "cell_type": "code",
   "execution_count": 57,
   "metadata": {},
   "outputs": [],
   "source": [
    "stacked_data = stacked_data.sum(axis=1)"
   ]
  },
  {
   "cell_type": "markdown",
   "metadata": {},
   "source": [
    "### Apply gaussian to the samples spiking data"
   ]
  },
  {
   "cell_type": "code",
   "execution_count": 59,
   "metadata": {},
   "outputs": [],
   "source": [
    "def fwhm2sigma(fwhm):\n",
    "    return fwhm / np.sqrt(8 * np.log(2))\n",
    "\n",
    "fwhm = 25\n",
    "sigma = fwhm2sigma(fwhm)\n",
    "\n",
    "gaussian = np.zeros(stacked_data.shape)\n",
    "gaussian_positions = np.arange(0, 3.4, 0.005)[:679]"
   ]
  },
  {
   "cell_type": "code",
   "execution_count": 60,
   "metadata": {},
   "outputs": [
    {
     "data": {
      "text/plain": [
       "(875, 679)"
      ]
     },
     "execution_count": 60,
     "metadata": {},
     "output_type": "execute_result"
    }
   ],
   "source": [
    "gaussian.shape"
   ]
  },
  {
   "cell_type": "code",
   "execution_count": 78,
   "metadata": {},
   "outputs": [
    {
     "data": {
      "text/plain": [
       "680.0"
      ]
     },
     "execution_count": 78,
     "metadata": {},
     "output_type": "execute_result"
    }
   ],
   "source": [
    "3.4/0.005"
   ]
  },
  {
   "cell_type": "code",
   "execution_count": 61,
   "metadata": {
    "tags": []
   },
   "outputs": [],
   "source": [
    "for i in range(gaussian.shape[0]):\n",
    "    ind = 0\n",
    "    neuron = stacked_data[i]\n",
    "    #print(neuron.shape)\n",
    "    gaussian_positions = np.arange(0, 3.4, 0.005)[:679]\n",
    "    for j in gaussian_positions:\n",
    "        #gk = np.exp(-(gaussian_positions*1000-j*1000)**2/(2*sigma**2))\n",
    "        gk = np.exp(-(gaussian_positions*1000-j*1000)**2/(2*sigma**2))\n",
    "        gk /= sum(gk)\n",
    "        #print(gk)\n",
    "        gaussian[i, ind] = sum(neuron*gk)\n",
    "       # rint(sum(neuron*gk))\n",
    "        ind += 1"
   ]
  },
  {
   "cell_type": "code",
   "execution_count": 79,
   "metadata": {},
   "outputs": [
    {
     "data": {
      "application/vnd.jupyter.widget-view+json": {
       "model_id": "e56915aa096c456cafc2611b4949dc82",
       "version_major": 2,
       "version_minor": 0
      },
      "image/png": "[encoded data removed]",
      "text/html": [
       "\n",
       "            <div style=\"display: inline-block;\">\n",
       "                <div class=\"jupyter-widgets widget-label\" style=\"text-align: center;\">\n",
       "                    Figure\n",
       "                </div>\n",
       "                <img src='data:image/png;base64,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' width=1500.0/>\n",
       "            </div>\n",
       "        "
      ],
      "text/plain": [
       "Canvas(toolbar=Toolbar(toolitems=[('Home', 'Reset original view', 'home', 'home'), ('Back', 'Back to previous …"
      ]
     },
     "metadata": {},
     "output_type": "display_data"
    }
   ],
   "source": [
    "plt.clf()\n",
    "plt.figure(figsize=(15, 5))\n",
    "\n",
    "plt.subplot(1, 2, 1)\n",
    "plt.plot(stacked_data[350])\n",
    "#plt.title(\"Activity Data\")\n",
    "\n",
    "#plt.subplot(1, 2, 2)\n",
    "plt.plot(gaussian[350])\n",
    "plt.legend([\"Activity Data\", \"Gaussian Smoothened Data\"])\n",
    "#plt.title(\"Gaussian Smoothened Data\")\n",
    "\n",
    "plt.xlabel(\"Bins index\")\n",
    "plt.ylabel(\"Number of spikes in a bin\")\n",
    "#plt.title(\"Binned Spiking Data\")\n",
    "\n",
    "plt.show()"
   ]
  },
  {
   "cell_type": "code",
   "execution_count": 63,
   "metadata": {},
   "outputs": [
    {
     "data": {
      "text/plain": [
       "(875, 679)"
      ]
     },
     "execution_count": 63,
     "metadata": {},
     "output_type": "execute_result"
    }
   ],
   "source": [
    "gaussian.shape"
   ]
  },
  {
   "cell_type": "code",
   "execution_count": 1158,
   "metadata": {},
   "outputs": [],
   "source": [
    "np.save(\"mouse_586468/mouse586468_probeF_sweep3_param45.npy\", gaussian) #_onset-100toonset+3500"
   ]
  },
  {
   "cell_type": "code",
   "execution_count": null,
   "metadata": {},
   "outputs": [],
   "source": []
  },
  {
   "cell_type": "markdown",
   "metadata": {},
   "source": [
    "## combine data of a particular sweep and parameter across all the probes"
   ]
  },
  {
   "cell_type": "code",
   "execution_count": 1238,
   "metadata": {},
   "outputs": [],
   "source": [
    "probeb_0 = np.load(\"mouse_586468/mouse586468_probeB_sweep3_param45.npy\")\n",
    "probec_0 = np.load(\"mouse_586468/mouse586468_probeC_sweep3_param45.npy\")\n",
    "probef_0 = np.load(\"mouse_586468/mouse586468_probeF_sweep3_param45.npy\")"
   ]
  },
  {
   "cell_type": "code",
   "execution_count": 1239,
   "metadata": {},
   "outputs": [],
   "source": [
    "all_p = np.concatenate((probeb_0, probec_0, probef_0))"
   ]
  },
  {
   "cell_type": "code",
   "execution_count": 1240,
   "metadata": {},
   "outputs": [
    {
     "data": {
      "text/plain": [
       "(2129, 679)"
      ]
     },
     "execution_count": 1240,
     "metadata": {},
     "output_type": "execute_result"
    }
   ],
   "source": [
    "all_p.shape"
   ]
  },
  {
   "cell_type": "code",
   "execution_count": 1241,
   "metadata": {},
   "outputs": [
    {
     "data": {
      "text/plain": [
       "((850, 679), (362, 679), (917, 679))"
      ]
     },
     "execution_count": 1241,
     "metadata": {},
     "output_type": "execute_result"
    }
   ],
   "source": [
    "probeb_0.shape, probec_0.shape, probef_0.shape, "
   ]
  },
  {
   "cell_type": "code",
   "execution_count": 1242,
   "metadata": {},
   "outputs": [
    {
     "data": {
      "text/plain": [
       "2129"
      ]
     },
     "execution_count": 1242,
     "metadata": {},
     "output_type": "execute_result"
    }
   ],
   "source": [
    "850+362+917"
   ]
  },
  {
   "cell_type": "code",
   "execution_count": 1243,
   "metadata": {},
   "outputs": [],
   "source": [
    "np.save(\"mouse586468_allprobes_sweep3_param45.npy\", all_p)"
   ]
  },
  {
   "cell_type": "code",
   "execution_count": null,
   "metadata": {},
   "outputs": [],
   "source": []
  },
  {
   "cell_type": "code",
   "execution_count": null,
   "metadata": {},
   "outputs": [],
   "source": []
  },
  {
   "cell_type": "code",
   "execution_count": null,
   "metadata": {},
   "outputs": [],
   "source": []
  },
  {
   "cell_type": "markdown",
   "metadata": {},
   "source": [
    "### Now loop through all probes in this experiment and gather info that is useful for analysis"
   ]
  },
  {
   "cell_type": "code",
   "execution_count": 20,
   "metadata": {},
   "outputs": [
    {
     "name": "stdout",
     "output_type": "stream",
     "text": [
      "probeB surface channel: 363\n"
     ]
    },
    {
     "ename": "NameError",
     "evalue": "name 'str_tree' is not defined",
     "output_type": "error",
     "traceback": [
      "\u001b[0;31m---------------------------------------------------------------------------\u001b[0m",
      "\u001b[0;31mNameError\u001b[0m                                 Traceback (most recent call last)",
      "Input \u001b[0;32mIn [20]\u001b[0m, in \u001b[0;36m<cell line: 2>\u001b[0;34m()\u001b[0m\n\u001b[1;32m     36\u001b[0m \u001b[38;5;28;01mfor\u001b[39;00m chi \u001b[38;5;129;01min\u001b[39;00m probe_info[probei][\u001b[38;5;124m'\u001b[39m\u001b[38;5;124mbrain_chs\u001b[39m\u001b[38;5;124m'\u001b[39m]:\n\u001b[1;32m     37\u001b[0m     \u001b[38;5;28;01mif\u001b[39;00m probe_info[probei][\u001b[38;5;124m'\u001b[39m\u001b[38;5;124mch_areas\u001b[39m\u001b[38;5;124m'\u001b[39m][chi] \u001b[38;5;241m!=\u001b[39m \u001b[38;5;124m'\u001b[39m\u001b[38;5;124mnull\u001b[39m\u001b[38;5;124m'\u001b[39m:\n\u001b[1;32m     38\u001b[0m         ctx_mask\u001b[38;5;241m.\u001b[39mappend(\n\u001b[0;32m---> 39\u001b[0m             \u001b[38;5;241m315\u001b[39m \u001b[38;5;129;01min\u001b[39;00m \u001b[43mstr_tree\u001b[49m\u001b[38;5;241m.\u001b[39mget_structures_by_acronym([probe_info[probei][\u001b[38;5;124m'\u001b[39m\u001b[38;5;124mch_areas\u001b[39m\u001b[38;5;124m'\u001b[39m][chi]])[\u001b[38;5;241m0\u001b[39m][\u001b[38;5;124m'\u001b[39m\u001b[38;5;124mstructure_id_path\u001b[39m\u001b[38;5;124m'\u001b[39m])\n\u001b[1;32m     40\u001b[0m     \u001b[38;5;28;01melse\u001b[39;00m:\n\u001b[1;32m     41\u001b[0m         ctx_mask\u001b[38;5;241m.\u001b[39mappend(\u001b[38;5;28;01mFalse\u001b[39;00m)\n",
      "\u001b[0;31mNameError\u001b[0m: name 'str_tree' is not defined"
     ]
    }
   ],
   "source": [
    "probe_info = {}\n",
    "for probei in probe_list:\n",
    "    probe_info[probei] = {}\n",
    "    \n",
    "    ### Every probe has a .json file that contains channel location information, etc.\n",
    "    with open(exp.ephys_params[probei]['probe_info']) as data_file:\n",
    "        data = json.load(data_file)\n",
    "    npx_allch = np.array(data['channel']) # this is an array from 0 to 384\n",
    "    surface_ch = int(data['surface_channel']) # the electrode we said was at the brain surface\n",
    "    allch_z = np.array(data['vertical_pos']) # vertical position of each electrode (um), relative to the tip (ch 0 is 20 um from tip)\n",
    "    ref_mask = np.array(data['mask']) # contains a False for Npx reference channels and \"bad chs\"\n",
    "    print('{} surface channel: {:d}'.format(probei, surface_ch))\n",
    "    probe_info[probei]['surface_channel'] = surface_ch\n",
    "\n",
    "    ## Get an array of \"good\" chs that are in the brain ##\n",
    "    probe_info[probei]['brain_chs'] = np.array([x for x in npx_allch if ref_mask[x] and x <= surface_ch])\n",
    "    \n",
    "    ## Get the depth of all chs relative to brain surface (in um, positive is deep in brain) ##\n",
    "    probe_info[probei]['ch_depths'] = allch_z[surface_ch] - allch_z\n",
    "    \n",
    "    ## Get saline chs for re-ref ##\n",
    "    ## Chooses 10 chs in the ACSF, but a few chs above the brain surface ##\n",
    "    if surface_ch + 25 > 384:\n",
    "        probe_info[probei]['saline_chs'] = np.arange(383, 373, -1)\n",
    "    else:\n",
    "        probe_info[probei]['saline_chs'] = np.arange(surface_ch + 15, surface_ch + 25)\n",
    "    \n",
    "    ## If we have completed the preprocessing step to assign CCF locations to the probe ##\n",
    "    if 'area_ch' in data.keys():\n",
    "        probe_info[probei]['ch_areas'] = np.array(data['area_ch'])\n",
    "        probe_info[probei]['ch_CCF_coords'] = np.array(data['ccf_coord_ch']) # a list [AP, DV, ML] of CCF coordinates\n",
    "        \n",
    "        ## My attempt to distinguish chs that are in the cortex ##\n",
    "        ## Uses the CCF to find if the area has 315 in its structure tree, 315 is the CCF id of the \"Isocortex\"\n",
    "        ctx_mask = []\n",
    "        for chi in probe_info[probei]['brain_chs']:\n",
    "            if probe_info[probei]['ch_areas'][chi] != 'null':\n",
    "                ctx_mask.append(\n",
    "                    315 in str_tree.get_structures_by_acronym([probe_info[probei]['ch_areas'][chi]])[0]['structure_id_path'])\n",
    "            else:\n",
    "                ctx_mask.append(False)\n",
    "        probe_info[probei]['ctx_mask'] = np.array(ctx_mask)\n",
    "    else:\n",
    "        print('{} does not have area assignments.'.format(probei))"
   ]
  },
  {
   "cell_type": "markdown",
   "metadata": {},
   "source": [
    "# Importing experiment metadata from a shared Google sheet"
   ]
  },
  {
   "cell_type": "code",
   "execution_count": 10,
   "metadata": {
    "tags": []
   },
   "outputs": [
    {
     "ename": "ModuleNotFoundError",
     "evalue": "No module named 'gspread'",
     "output_type": "error",
     "traceback": [
      "\u001b[0;31m---------------------------------------------------------------------------\u001b[0m",
      "\u001b[0;31mModuleNotFoundError\u001b[0m                       Traceback (most recent call last)",
      "Input \u001b[0;32mIn [10]\u001b[0m, in \u001b[0;36m<cell line: 6>\u001b[0;34m()\u001b[0m\n\u001b[1;32m      1\u001b[0m \u001b[38;5;66;03m# accessing the Google sheet with experiment metadata in python\u001b[39;00m\n\u001b[1;32m      2\u001b[0m \u001b[38;5;66;03m# setting up the permissions:\u001b[39;00m\n\u001b[1;32m      3\u001b[0m \u001b[38;5;66;03m# 1. install gspread (pip install gspread / conda install gspread)\u001b[39;00m\n\u001b[1;32m      4\u001b[0m \u001b[38;5;66;03m# 2. copy the service_account.json file to '~/.config/gspread/service_account.json'\u001b[39;00m\n\u001b[1;32m      5\u001b[0m \u001b[38;5;66;03m# 3. run the following:\u001b[39;00m\n\u001b[0;32m----> 6\u001b[0m \u001b[38;5;28;01mimport\u001b[39;00m \u001b[38;5;21;01mgspread\u001b[39;00m\n\u001b[1;32m      7\u001b[0m _gc \u001b[38;5;241m=\u001b[39m gspread\u001b[38;5;241m.\u001b[39mservice_account() \u001b[38;5;66;03m# need a key file to access the account (step 2)\u001b[39;00m\n\u001b[1;32m      8\u001b[0m _sh \u001b[38;5;241m=\u001b[39m _gc\u001b[38;5;241m.\u001b[39mopen(\u001b[38;5;124m'\u001b[39m\u001b[38;5;124mZap_Zip-log_exp\u001b[39m\u001b[38;5;124m'\u001b[39m) \u001b[38;5;66;03m# open the spreadsheet\u001b[39;00m\n",
      "\u001b[0;31mModuleNotFoundError\u001b[0m: No module named 'gspread'"
     ]
    }
   ],
   "source": [
    "# accessing the Google sheet with experiment metadata in python\n",
    "# setting up the permissions:\n",
    "# 1. install gspread (pip install gspread / conda install gspread)\n",
    "# 2. copy the service_account.json file to '~/.config/gspread/service_account.json'\n",
    "# 3. run the following:\n",
    "import gspread\n",
    "_gc = gspread.service_account() # need a key file to access the account (step 2)\n",
    "_sh = _gc.open('Zap_Zip-log_exp') # open the spreadsheet\n",
    "_df = pd.DataFrame(_sh.sheet1.get()) # load the first worksheet\n",
    "gmetadata = _df.T.set_index(0).T # put it in a nicely formatted dataframe\n",
    "\n",
    "gmetadata"
   ]
  },
  {
   "cell_type": "code",
   "execution_count": null,
   "metadata": {},
   "outputs": [],
   "source": []
  }
 ],
 "metadata": {
  "kernelspec": {
   "display_name": "btp_lakshika",
   "language": "python",
   "name": "btp_lakshika"
  },
  "language_info": {
   "codemirror_mode": {
    "name": "ipython",
    "version": 3
   },
   "file_extension": ".py",
   "mimetype": "text/x-python",
   "name": "python",
   "nbconvert_exporter": "python",
   "pygments_lexer": "ipython3",
   "version": "3.9.7"
  },
  "widgets": {
   "application/vnd.jupyter.widget-state+json": {
    "state": {},
    "version_major": 2,
    "version_minor": 0
   }
  }
 },
 "nbformat": 4,
 "nbformat_minor": 4
}
